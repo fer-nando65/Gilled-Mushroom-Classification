{
 "cells": [
  {
   "cell_type": "markdown",
   "id": "6c8a79a3",
   "metadata": {},
   "source": [
    "### Importing Library"
   ]
  },
  {
   "cell_type": "code",
   "execution_count": 9,
   "id": "ed91b442",
   "metadata": {},
   "outputs": [],
   "source": [
    "import tensorflow as tf\n",
    "from tensorflow.keras.models import Sequential\n",
    "from tensorflow.keras.layers import Dense\n",
    "import pandas as pd\n",
    "from sklearn.model_selection import train_test_split\n",
    "from sklearn import metrics\n",
    "from sklearn.preprocessing import LabelEncoder\n",
    "import seaborn as sn\n",
    "import numpy as np\n",
    "import matplotlib.pyplot as plt"
   ]
  },
  {
   "cell_type": "markdown",
   "id": "113c91d4",
   "metadata": {},
   "source": [
    "### Mushroom information Data"
   ]
  },
  {
   "cell_type": "code",
   "execution_count": 10,
   "id": "0d6d9524",
   "metadata": {},
   "outputs": [
    {
     "data": {
      "text/html": [
       "<div>\n",
       "<style scoped>\n",
       "    .dataframe tbody tr th:only-of-type {\n",
       "        vertical-align: middle;\n",
       "    }\n",
       "\n",
       "    .dataframe tbody tr th {\n",
       "        vertical-align: top;\n",
       "    }\n",
       "\n",
       "    .dataframe thead th {\n",
       "        text-align: right;\n",
       "    }\n",
       "</style>\n",
       "<table border=\"1\" class=\"dataframe\">\n",
       "  <thead>\n",
       "    <tr style=\"text-align: right;\">\n",
       "      <th></th>\n",
       "      <th>id</th>\n",
       "      <th>'cap-shape'</th>\n",
       "      <th>'cap-surface'</th>\n",
       "      <th>'cap-color'</th>\n",
       "      <th>'bruises%3F'</th>\n",
       "      <th>'odor'</th>\n",
       "      <th>'gill-attachment'</th>\n",
       "      <th>'gill-spacing'</th>\n",
       "      <th>'gill-size'</th>\n",
       "      <th>'gill-color'</th>\n",
       "      <th>...</th>\n",
       "      <th>'stalk-color-above-ring'</th>\n",
       "      <th>'stalk-color-below-ring'</th>\n",
       "      <th>'veil-type'</th>\n",
       "      <th>'veil-color'</th>\n",
       "      <th>'ring-number'</th>\n",
       "      <th>'ring-type'</th>\n",
       "      <th>'spore-print-color'</th>\n",
       "      <th>'population'</th>\n",
       "      <th>'habitat'</th>\n",
       "      <th>'class'</th>\n",
       "    </tr>\n",
       "  </thead>\n",
       "  <tbody>\n",
       "    <tr>\n",
       "      <th>0</th>\n",
       "      <td>1</td>\n",
       "      <td>x</td>\n",
       "      <td>s</td>\n",
       "      <td>n</td>\n",
       "      <td>t</td>\n",
       "      <td>p</td>\n",
       "      <td>f</td>\n",
       "      <td>c</td>\n",
       "      <td>n</td>\n",
       "      <td>k</td>\n",
       "      <td>...</td>\n",
       "      <td>w</td>\n",
       "      <td>w</td>\n",
       "      <td>p</td>\n",
       "      <td>w</td>\n",
       "      <td>o</td>\n",
       "      <td>p</td>\n",
       "      <td>k</td>\n",
       "      <td>s</td>\n",
       "      <td>u</td>\n",
       "      <td>p</td>\n",
       "    </tr>\n",
       "    <tr>\n",
       "      <th>1</th>\n",
       "      <td>2</td>\n",
       "      <td>x</td>\n",
       "      <td>s</td>\n",
       "      <td>y</td>\n",
       "      <td>t</td>\n",
       "      <td>a</td>\n",
       "      <td>f</td>\n",
       "      <td>c</td>\n",
       "      <td>b</td>\n",
       "      <td>k</td>\n",
       "      <td>...</td>\n",
       "      <td>w</td>\n",
       "      <td>w</td>\n",
       "      <td>p</td>\n",
       "      <td>w</td>\n",
       "      <td>o</td>\n",
       "      <td>p</td>\n",
       "      <td>n</td>\n",
       "      <td>n</td>\n",
       "      <td>g</td>\n",
       "      <td>e</td>\n",
       "    </tr>\n",
       "    <tr>\n",
       "      <th>2</th>\n",
       "      <td>3</td>\n",
       "      <td>b</td>\n",
       "      <td>s</td>\n",
       "      <td>w</td>\n",
       "      <td>t</td>\n",
       "      <td>l</td>\n",
       "      <td>f</td>\n",
       "      <td>c</td>\n",
       "      <td>b</td>\n",
       "      <td>n</td>\n",
       "      <td>...</td>\n",
       "      <td>w</td>\n",
       "      <td>w</td>\n",
       "      <td>p</td>\n",
       "      <td>w</td>\n",
       "      <td>o</td>\n",
       "      <td>p</td>\n",
       "      <td>n</td>\n",
       "      <td>n</td>\n",
       "      <td>m</td>\n",
       "      <td>e</td>\n",
       "    </tr>\n",
       "    <tr>\n",
       "      <th>3</th>\n",
       "      <td>4</td>\n",
       "      <td>x</td>\n",
       "      <td>y</td>\n",
       "      <td>w</td>\n",
       "      <td>t</td>\n",
       "      <td>p</td>\n",
       "      <td>f</td>\n",
       "      <td>c</td>\n",
       "      <td>n</td>\n",
       "      <td>n</td>\n",
       "      <td>...</td>\n",
       "      <td>w</td>\n",
       "      <td>w</td>\n",
       "      <td>p</td>\n",
       "      <td>w</td>\n",
       "      <td>o</td>\n",
       "      <td>p</td>\n",
       "      <td>k</td>\n",
       "      <td>s</td>\n",
       "      <td>u</td>\n",
       "      <td>p</td>\n",
       "    </tr>\n",
       "    <tr>\n",
       "      <th>4</th>\n",
       "      <td>5</td>\n",
       "      <td>x</td>\n",
       "      <td>s</td>\n",
       "      <td>g</td>\n",
       "      <td>f</td>\n",
       "      <td>n</td>\n",
       "      <td>f</td>\n",
       "      <td>w</td>\n",
       "      <td>b</td>\n",
       "      <td>k</td>\n",
       "      <td>...</td>\n",
       "      <td>w</td>\n",
       "      <td>w</td>\n",
       "      <td>p</td>\n",
       "      <td>w</td>\n",
       "      <td>o</td>\n",
       "      <td>e</td>\n",
       "      <td>n</td>\n",
       "      <td>a</td>\n",
       "      <td>g</td>\n",
       "      <td>e</td>\n",
       "    </tr>\n",
       "  </tbody>\n",
       "</table>\n",
       "<p>5 rows × 24 columns</p>\n",
       "</div>"
      ],
      "text/plain": [
       "   id 'cap-shape' 'cap-surface' 'cap-color' 'bruises%3F' 'odor'  \\\n",
       "0   1           x             s           n            t      p   \n",
       "1   2           x             s           y            t      a   \n",
       "2   3           b             s           w            t      l   \n",
       "3   4           x             y           w            t      p   \n",
       "4   5           x             s           g            f      n   \n",
       "\n",
       "  'gill-attachment' 'gill-spacing' 'gill-size' 'gill-color'  ...  \\\n",
       "0                 f              c           n            k  ...   \n",
       "1                 f              c           b            k  ...   \n",
       "2                 f              c           b            n  ...   \n",
       "3                 f              c           n            n  ...   \n",
       "4                 f              w           b            k  ...   \n",
       "\n",
       "  'stalk-color-above-ring' 'stalk-color-below-ring' 'veil-type' 'veil-color'  \\\n",
       "0                        w                        w           p            w   \n",
       "1                        w                        w           p            w   \n",
       "2                        w                        w           p            w   \n",
       "3                        w                        w           p            w   \n",
       "4                        w                        w           p            w   \n",
       "\n",
       "  'ring-number' 'ring-type' 'spore-print-color' 'population' 'habitat' 'class'  \n",
       "0             o           p                   k            s         u       p  \n",
       "1             o           p                   n            n         g       e  \n",
       "2             o           p                   n            n         m       e  \n",
       "3             o           p                   k            s         u       p  \n",
       "4             o           e                   n            a         g       e  \n",
       "\n",
       "[5 rows x 24 columns]"
      ]
     },
     "execution_count": 10,
     "metadata": {},
     "output_type": "execute_result"
    }
   ],
   "source": [
    "df = pd.read_csv('csv_result-dataset_24_mushroom.csv')\n",
    "df.head()"
   ]
  },
  {
   "cell_type": "code",
   "execution_count": 11,
   "id": "510737e4",
   "metadata": {
    "scrolled": true
   },
   "outputs": [
    {
     "name": "stdout",
     "output_type": "stream",
     "text": [
      "<class 'pandas.core.frame.DataFrame'>\n",
      "RangeIndex: 8127 entries, 0 to 8126\n",
      "Data columns (total 24 columns):\n",
      " #   Column                      Non-Null Count  Dtype \n",
      "---  ------                      --------------  ----- \n",
      " 0   id                          8127 non-null   int64 \n",
      " 1   'cap-shape'                 8127 non-null   object\n",
      " 2   'cap-surface'               8124 non-null   object\n",
      " 3   'cap-color'                 8124 non-null   object\n",
      " 4   'bruises%3F'                8124 non-null   object\n",
      " 5   'odor'                      8124 non-null   object\n",
      " 6   'gill-attachment'           8124 non-null   object\n",
      " 7   'gill-spacing'              8124 non-null   object\n",
      " 8   'gill-size'                 8124 non-null   object\n",
      " 9   'gill-color'                8124 non-null   object\n",
      " 10  'stalk-shape'               8124 non-null   object\n",
      " 11  'stalk-root'                8124 non-null   object\n",
      " 12  'stalk-surface-above-ring'  8124 non-null   object\n",
      " 13  'stalk-surface-below-ring'  8124 non-null   object\n",
      " 14  'stalk-color-above-ring'    8124 non-null   object\n",
      " 15  'stalk-color-below-ring'    8124 non-null   object\n",
      " 16  'veil-type'                 8124 non-null   object\n",
      " 17  'veil-color'                8124 non-null   object\n",
      " 18  'ring-number'               8124 non-null   object\n",
      " 19  'ring-type'                 8124 non-null   object\n",
      " 20  'spore-print-color'         8124 non-null   object\n",
      " 21  'population'                8124 non-null   object\n",
      " 22  'habitat'                   8124 non-null   object\n",
      " 23  'class'                     8124 non-null   object\n",
      "dtypes: int64(1), object(23)\n",
      "memory usage: 1.5+ MB\n"
     ]
    }
   ],
   "source": [
    "df.info()"
   ]
  },
  {
   "cell_type": "markdown",
   "id": "372ee749",
   "metadata": {},
   "source": [
    "### Cleaning and Normalize Data"
   ]
  },
  {
   "cell_type": "code",
   "execution_count": 12,
   "id": "0768ce46",
   "metadata": {},
   "outputs": [],
   "source": [
    "# Cleaning NaN data and droping un-important column\n",
    "df = df.dropna()\n",
    "df = df.drop('id', axis=1)\n",
    "\n",
    "# feature extraction\n",
    "X = df.drop(\"'class'\", axis=1)\n",
    "y = df[\"'class'\"]"
   ]
  },
  {
   "cell_type": "code",
   "execution_count": 13,
   "id": "ae17c4db",
   "metadata": {},
   "outputs": [
    {
     "name": "stdout",
     "output_type": "stream",
     "text": [
      "<class 'pandas.core.frame.DataFrame'>\n",
      "Int64Index: 8124 entries, 0 to 8123\n",
      "Data columns (total 23 columns):\n",
      " #   Column                      Non-Null Count  Dtype \n",
      "---  ------                      --------------  ----- \n",
      " 0   'cap-shape'                 8124 non-null   object\n",
      " 1   'cap-surface'               8124 non-null   object\n",
      " 2   'cap-color'                 8124 non-null   object\n",
      " 3   'bruises%3F'                8124 non-null   object\n",
      " 4   'odor'                      8124 non-null   object\n",
      " 5   'gill-attachment'           8124 non-null   object\n",
      " 6   'gill-spacing'              8124 non-null   object\n",
      " 7   'gill-size'                 8124 non-null   object\n",
      " 8   'gill-color'                8124 non-null   object\n",
      " 9   'stalk-shape'               8124 non-null   object\n",
      " 10  'stalk-root'                8124 non-null   object\n",
      " 11  'stalk-surface-above-ring'  8124 non-null   object\n",
      " 12  'stalk-surface-below-ring'  8124 non-null   object\n",
      " 13  'stalk-color-above-ring'    8124 non-null   object\n",
      " 14  'stalk-color-below-ring'    8124 non-null   object\n",
      " 15  'veil-type'                 8124 non-null   object\n",
      " 16  'veil-color'                8124 non-null   object\n",
      " 17  'ring-number'               8124 non-null   object\n",
      " 18  'ring-type'                 8124 non-null   object\n",
      " 19  'spore-print-color'         8124 non-null   object\n",
      " 20  'population'                8124 non-null   object\n",
      " 21  'habitat'                   8124 non-null   object\n",
      " 22  'class'                     8124 non-null   object\n",
      "dtypes: object(23)\n",
      "memory usage: 1.5+ MB\n"
     ]
    }
   ],
   "source": [
    "df.info()"
   ]
  },
  {
   "cell_type": "code",
   "execution_count": 14,
   "id": "3453592d",
   "metadata": {},
   "outputs": [],
   "source": [
    "# Normalize data\n",
    "le = LabelEncoder()\n",
    "\n",
    "for i in X.columns:\n",
    "    X[i] = le.fit_transform(X[i])\n",
    "\n",
    "y = le.fit_transform(y)"
   ]
  },
  {
   "cell_type": "markdown",
   "id": "c7119563",
   "metadata": {},
   "source": [
    "### Spliting the Data"
   ]
  },
  {
   "cell_type": "code",
   "execution_count": 15,
   "id": "baa3cd5d",
   "metadata": {},
   "outputs": [],
   "source": [
    "# seed\n",
    "seed = 48\n",
    "\n",
    "# spliting data into train(90%) and test(10%)\n",
    "X_train, X_test, y_train, y_test = train_test_split(X, y, test_size=.1, random_state=seed)"
   ]
  },
  {
   "cell_type": "markdown",
   "id": "359dbe69",
   "metadata": {},
   "source": [
    "### Create the Model"
   ]
  },
  {
   "cell_type": "code",
   "execution_count": 27,
   "id": "02ed87e5",
   "metadata": {},
   "outputs": [
    {
     "name": "stdout",
     "output_type": "stream",
     "text": [
      "Epoch 1/10\n",
      "229/229 [==============================] - 1s 3ms/step - loss: 0.3148 - accuracy: 0.9312\n",
      "Epoch 2/10\n",
      "229/229 [==============================] - 1s 2ms/step - loss: 0.0343 - accuracy: 0.9889\n",
      "Epoch 3/10\n",
      "229/229 [==============================] - 1s 2ms/step - loss: 0.0074 - accuracy: 0.9982\n",
      "Epoch 4/10\n",
      "229/229 [==============================] - 1s 3ms/step - loss: 0.0035 - accuracy: 0.9993\n",
      "Epoch 5/10\n",
      "229/229 [==============================] - 1s 3ms/step - loss: 6.2858e-04 - accuracy: 1.0000\n",
      "Epoch 6/10\n",
      "229/229 [==============================] - 1s 3ms/step - loss: 3.7658e-04 - accuracy: 1.0000\n",
      "Epoch 7/10\n",
      "229/229 [==============================] - 1s 3ms/step - loss: 1.3026e-04 - accuracy: 1.0000\n",
      "Epoch 8/10\n",
      "229/229 [==============================] - 1s 3ms/step - loss: 1.0862e-04 - accuracy: 1.0000\n",
      "Epoch 9/10\n",
      "229/229 [==============================] - 1s 3ms/step - loss: 8.6833e-05 - accuracy: 1.0000\n",
      "Epoch 10/10\n",
      "229/229 [==============================] - 1s 3ms/step - loss: 6.6922e-05 - accuracy: 1.0000\n",
      "229/229 [==============================] - 1s 2ms/step - loss: 9.2868e-05 - accuracy: 1.0000\n",
      "Accuracy Training = 100.00%\n"
     ]
    }
   ],
   "source": [
    "# create the model\n",
    "initializer = tf.keras.initializers.RandomNormal(mean=0.0, stddev=1.0, seed=None)\n",
    "model = Sequential()\n",
    "model.add(Dense(120, input_dim = 22, activation='relu', kernel_initializer=initializer, bias_initializer='zeros'))\n",
    "model.add(Dense(80, activation = 'relu'))\n",
    "model.add(Dense(1, activation='sigmoid'))\n",
    "\n",
    "# compile the model\n",
    "model.compile(\n",
    "    optimizer=tf.keras.optimizers.Adam(learning_rate=0.01),\n",
    "    loss='binary_crossentropy',\n",
    "    metrics=['accuracy']\n",
    ")\n",
    "\n",
    "# fit the model\n",
    "model_history = model.fit(X_train, y_train, epochs=10, verbose=1)\n",
    "\n",
    "# evaluate the training model section\n",
    "score_train = model.evaluate(X_train, y_train)\n",
    "print(\"Accuracy Training = %.2f%%\" % (score_train[1]*100))"
   ]
  },
  {
   "cell_type": "code",
   "execution_count": 23,
   "id": "ec1f476b",
   "metadata": {},
   "outputs": [
    {
     "data": {
      "text/plain": [
       "Text(0, 0.5, 'Loss')"
      ]
     },
     "execution_count": 23,
     "metadata": {},
     "output_type": "execute_result"
    },
    {
     "data": {
      "image/png": "[encoded data removed]",
      "text/plain": [
       "<Figure size 432x288 with 1 Axes>"
      ]
     },
     "metadata": {
      "needs_background": "light"
     },
     "output_type": "display_data"
    }
   ],
   "source": [
    "plt.plot(model_history.history['accuracy'])\n",
    "plt.plot(model_history.history['loss'])\n",
    "plt.xlabel('Accuracy')\n",
    "plt.ylabel('Loss')"
   ]
  },
  {
   "cell_type": "code",
   "execution_count": 32,
   "id": "f8090b9b",
   "metadata": {
    "scrolled": true
   },
   "outputs": [
    {
     "name": "stdout",
     "output_type": "stream",
     "text": [
      "26/26 [==============================] - 0s 800us/step - loss: 2.4535e-06 - accuracy: 1.0000\n",
      "Accuracy Testing = 100.00%\n"
     ]
    }
   ],
   "source": [
    "# evaluate the testing model section\n",
    "score_test =  model.evaluate(X_test, y_test)\n",
    "print(\"Accuracy Testing = %.2f%%\" % (score_test[1]*100))"
   ]
  },
  {
   "cell_type": "markdown",
   "id": "07b3224f",
   "metadata": {},
   "source": [
    "### Ploting the Model"
   ]
  },
  {
   "cell_type": "code",
   "execution_count": 24,
   "id": "0bf76579",
   "metadata": {},
   "outputs": [],
   "source": [
    "y_test_pred = model.predict(X_test)\n",
    "y_predicted_labels = [np.argmax(i) for i in y_test_pred]"
   ]
  },
  {
   "cell_type": "code",
   "execution_count": 25,
   "id": "5a34326c",
   "metadata": {},
   "outputs": [
    {
     "data": {
      "text/plain": [
       "Text(69.0, 0.5, 'Truth')"
      ]
     },
     "execution_count": 25,
     "metadata": {},
     "output_type": "execute_result"
    },
    {
     "data": {
      "image/png": "[encoded data removed]",
      "text/plain": [
       "<Figure size 720x504 with 2 Axes>"
      ]
     },
     "metadata": {
      "needs_background": "light"
     },
     "output_type": "display_data"
    }
   ],
   "source": [
    "cm = tf.math.confusion_matrix(y_test, y_predicted_labels)\n",
    "\n",
    "plt.figure(figsize=(10,7))\n",
    "sn.heatmap(cm, annot=True, fmt='d')\n",
    "plt.xlabel('Predicted')\n",
    "plt.ylabel('Truth')"
   ]
  },
  {
   "cell_type": "code",
   "execution_count": 46,
   "id": "56c3bb33",
   "metadata": {},
   "outputs": [
    {
     "data": {
      "text/plain": [
       "(813,)"
      ]
     },
     "execution_count": 46,
     "metadata": {},
     "output_type": "execute_result"
    }
   ],
   "source": [
    "y_test.shape # Total data test = 413 + 400"
   ]
  },
  {
   "cell_type": "code",
   "execution_count": null,
   "id": "32e0fe50",
   "metadata": {},
   "outputs": [],
   "source": []
  }
 ],
 "metadata": {
  "kernelspec": {
   "display_name": "Python 3 (ipykernel)",
   "language": "python",
   "name": "python3"
  },
  "language_info": {
   "codemirror_mode": {
    "name": "ipython",
    "version": 3
   },
   "file_extension": ".py",
   "mimetype": "text/x-python",
   "name": "python",
   "nbconvert_exporter": "python",
   "pygments_lexer": "ipython3",
   "version": "3.9.7"
  }
 },
 "nbformat": 4,
 "nbformat_minor": 5
}
